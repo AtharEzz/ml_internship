{
 "cells": [
  {
   "cell_type": "code",
   "execution_count": 3,
   "id": "6befcefd-0019-46c0-9c2e-2eb22c1e12bc",
   "metadata": {},
   "outputs": [
    {
     "name": "stdout",
     "output_type": "stream",
     "text": [
      "Collecting kaggle\n",
      "  Downloading kaggle-1.7.4.5-py3-none-any.whl.metadata (16 kB)\n",
      "Requirement already satisfied: bleach in c:\\users\\athar\\anaconda3\\envs\\ml_5tasks\\lib\\site-packages (from kaggle) (6.2.0)\n",
      "Requirement already satisfied: certifi>=14.05.14 in c:\\users\\athar\\anaconda3\\envs\\ml_5tasks\\lib\\site-packages (from kaggle) (2025.8.3)\n",
      "Requirement already satisfied: charset-normalizer in c:\\users\\athar\\anaconda3\\envs\\ml_5tasks\\lib\\site-packages (from kaggle) (3.4.3)\n",
      "Requirement already satisfied: idna in c:\\users\\athar\\anaconda3\\envs\\ml_5tasks\\lib\\site-packages (from kaggle) (3.10)\n",
      "Requirement already satisfied: protobuf in c:\\users\\athar\\anaconda3\\envs\\ml_5tasks\\lib\\site-packages (from kaggle) (6.32.1)\n",
      "Requirement already satisfied: python-dateutil>=2.5.3 in c:\\users\\athar\\anaconda3\\envs\\ml_5tasks\\lib\\site-packages (from kaggle) (2.9.0.post0)\n",
      "Collecting python-slugify (from kaggle)\n",
      "  Downloading python_slugify-8.0.4-py2.py3-none-any.whl.metadata (8.5 kB)\n",
      "Requirement already satisfied: requests in c:\\users\\athar\\anaconda3\\envs\\ml_5tasks\\lib\\site-packages (from kaggle) (2.32.5)\n",
      "Requirement already satisfied: setuptools>=21.0.0 in c:\\users\\athar\\anaconda3\\envs\\ml_5tasks\\lib\\site-packages (from kaggle) (78.1.1)\n",
      "Requirement already satisfied: six>=1.10 in c:\\users\\athar\\anaconda3\\envs\\ml_5tasks\\lib\\site-packages (from kaggle) (1.17.0)\n",
      "Collecting text-unidecode (from kaggle)\n",
      "  Downloading text_unidecode-1.3-py2.py3-none-any.whl.metadata (2.4 kB)\n",
      "Requirement already satisfied: tqdm in c:\\users\\athar\\anaconda3\\envs\\ml_5tasks\\lib\\site-packages (from kaggle) (4.67.1)\n",
      "Requirement already satisfied: urllib3>=1.15.1 in c:\\users\\athar\\anaconda3\\envs\\ml_5tasks\\lib\\site-packages (from kaggle) (2.5.0)\n",
      "Requirement already satisfied: webencodings in c:\\users\\athar\\anaconda3\\envs\\ml_5tasks\\lib\\site-packages (from kaggle) (0.5.1)\n",
      "Requirement already satisfied: colorama in c:\\users\\athar\\anaconda3\\envs\\ml_5tasks\\lib\\site-packages (from tqdm->kaggle) (0.4.6)\n",
      "Downloading kaggle-1.7.4.5-py3-none-any.whl (181 kB)\n",
      "Downloading python_slugify-8.0.4-py2.py3-none-any.whl (10 kB)\n",
      "Downloading text_unidecode-1.3-py2.py3-none-any.whl (78 kB)\n",
      "Installing collected packages: text-unidecode, python-slugify, kaggle\n",
      "\n",
      "   ------------- -------------------------- 1/3 [python-slugify]\n",
      "   -------------------------- ------------- 2/3 [kaggle]\n",
      "   -------------------------- ------------- 2/3 [kaggle]\n",
      "   -------------------------- ------------- 2/3 [kaggle]\n",
      "   -------------------------- ------------- 2/3 [kaggle]\n",
      "   -------------------------- ------------- 2/3 [kaggle]\n",
      "   -------------------------- ------------- 2/3 [kaggle]\n",
      "   -------------------------- ------------- 2/3 [kaggle]\n",
      "   -------------------------- ------------- 2/3 [kaggle]\n",
      "   -------------------------- ------------- 2/3 [kaggle]\n",
      "   -------------------------- ------------- 2/3 [kaggle]\n",
      "   ---------------------------------------- 3/3 [kaggle]\n",
      "\n",
      "Successfully installed kaggle-1.7.4.5 python-slugify-8.0.4 text-unidecode-1.3\n"
     ]
    }
   ],
   "source": [
    "!pip install kaggle\n"
   ]
  },
  {
   "cell_type": "markdown",
   "id": "2ae26bdd-191d-4dbb-bd3b-8c3ca3c63048",
   "metadata": {},
   "source": [
    "# Importing Liberaries "
   ]
  },
  {
   "cell_type": "code",
   "execution_count": 58,
   "id": "63ab60ce-4ef0-4b74-b34b-690b53b5c6c7",
   "metadata": {},
   "outputs": [],
   "source": [
    "import pandas as pd\n",
    "import numpy as np\n",
    "import matplotlib.pyplot as plt\n",
    "import seaborn as sns\n",
    "from sklearn.ensemble import RandomForestRegressor\n",
    "from sklearn.model_selection import TimeSeriesSplit\n",
    "from sklearn.preprocessing import LabelEncoder\n",
    "from sklearn.metrics import mean_squared_error, mean_absolute_error\n",
    "import xgboost as xgb\n",
    "import shutil, os, zipfile\n"
   ]
  },
  {
   "cell_type": "markdown",
   "id": "87bee31c-021e-4ffe-8bfd-21af615fc00b",
   "metadata": {},
   "source": [
    "# Downloading & Extracting Data "
   ]
  },
  {
   "cell_type": "code",
   "execution_count": 13,
   "id": "fcd68e37-a860-4b40-8f91-eccb5aa0c5d4",
   "metadata": {},
   "outputs": [
    {
     "name": "stdout",
     "output_type": "stream",
     "text": [
      " Copied kaggle.json to the default location.\n"
     ]
    }
   ],
   "source": [
    "\n",
    "os.remove(r\"C:\\Users\\Athar\\.kaggle\\kaggle.json\")\n",
    "\n",
    "os.makedirs(r\"C:\\Users\\Athar\\.kaggle\", exist_ok=True)\n",
    "shutil.copy(\n",
    "    r\"D:\\ml_internship\\3_sales_forecasting\\data\\.kaggle\\kaggle.json\",\n",
    "    r\"C:\\Users\\Athar\\.kaggle\\kaggle.json\"\n",
    ")\n",
    "print(\" Copied kaggle.json to the default location.\")\n"
   ]
  },
  {
   "cell_type": "code",
   "execution_count": 10,
   "id": "5ffbd450-720d-4fad-944f-6411cdfbe721",
   "metadata": {},
   "outputs": [
    {
     "name": "stdout",
     "output_type": "stream",
     "text": [
      "Downloading walmart-recruiting-store-sales-forecasting.zip to D:\\ml_internship\\3_sales_forecasting\\notebooks\n",
      "\n"
     ]
    },
    {
     "name": "stderr",
     "output_type": "stream",
     "text": [
      "\n",
      "  0%|          | 0.00/2.70M [00:00<?, ?B/s]\n",
      "100%|##########| 2.70M/2.70M [00:00<00:00, 20.4MB/s]\n",
      "100%|##########| 2.70M/2.70M [00:00<00:00, 17.3MB/s]\n"
     ]
    }
   ],
   "source": [
    "!kaggle competitions download -c walmart-recruiting-store-sales-forecasting\n"
   ]
  },
  {
   "cell_type": "code",
   "execution_count": 14,
   "id": "16fba99a-36ba-4d97-a62e-666f9cd4cc39",
   "metadata": {},
   "outputs": [
    {
     "name": "stdout",
     "output_type": "stream",
     "text": [
      "Moved to: D:\\ml_internship\\3_sales_forecasting\\data\\walmart-recruiting-store-sales-forecasting.zip\n",
      "Extracted contents to: D:\\ml_internship\\3_sales_forecasting\\data\n"
     ]
    }
   ],
   "source": [
    "\n",
    "\n",
    "\n",
    "# Define paths\n",
    "src = \"walmart-recruiting-store-sales-forecasting.zip\"  \n",
    "dest_folder = r\"D:\\ml_internship\\3_sales_forecasting\\data\"\n",
    "dest_zip = os.path.join(dest_folder, \"walmart-recruiting-store-sales-forecasting.zip\")\n",
    "\n",
    "# Make sure the destination folder exists\n",
    "os.makedirs(dest_folder, exist_ok=True)\n",
    "\n",
    "# Move the zip file to the data folder\n",
    "shutil.move(src, dest_zip)\n",
    "print(f\"Moved to: {dest_zip}\")\n",
    "\n",
    "# Extract the ZIP file inside the data folder\n",
    "with zipfile.ZipFile(dest_zip, 'r') as zip_f:\n",
    "    zip_f.extractall(dest_folder)\n",
    "print(f\"Extracted contents to: {dest_folder}\")\n"
   ]
  },
  {
   "cell_type": "code",
   "execution_count": 15,
   "id": "f1af56ad-ff9e-4342-a600-5b49d7cf3efe",
   "metadata": {},
   "outputs": [
    {
     "name": "stdout",
     "output_type": "stream",
     "text": [
      "Extracting features.csv.zip...\n",
      "\n",
      "Extracted features.csv.zip\n",
      "Extracting sampleSubmission.csv.zip...\n",
      "\n",
      "Extracted sampleSubmission.csv.zip\n",
      "Extracting test.csv.zip...\n",
      "\n",
      "Extracted test.csv.zip\n",
      "Extracting train.csv.zip...\n",
      "\n",
      "Extracted train.csv.zip\n",
      "Extracting walmart-recruiting-store-sales-forecasting.zip...\n",
      "\n",
      "Extracted walmart-recruiting-store-sales-forecasting.zip\n"
     ]
    }
   ],
   "source": [
    "data_folder = r\"D:\\ml_internship\\3_sales_forecasting\\data\"\n",
    "\n",
    "# Loop through all files in the data folder\n",
    "for file in os.listdir(data_folder):\n",
    "    if file.endswith(\".zip\"):\n",
    "        zip_path = os.path.join(data_folder, file)\n",
    "        extract_folder = data_folder  \n",
    "        print(f\"Extracting {file}...\\n\")\n",
    "        \n",
    "        with zipfile.ZipFile(zip_path, 'r') as zip_f:\n",
    "            zip_f.extractall(extract_folder)\n",
    "        print(f\"Extracted {file}\")"
   ]
  },
  {
   "cell_type": "code",
   "execution_count": 16,
   "id": "a4c5aafa-ea5f-4520-bf57-3713855d41db",
   "metadata": {},
   "outputs": [],
   "source": [
    "for file in os.listdir(data_folder):\n",
    "    if file.endswith(\".zip\"):\n",
    "        os.remove(os.path.join(data_folder, file))\n",
    "        print(f\"Deleted {file}\")"
   ]
  },
  {
   "cell_type": "markdown",
   "id": "9a09a156-a40e-43d7-8214-c873522f18c3",
   "metadata": {},
   "source": [
    "# Reading & Exploring Data "
   ]
  },
  {
   "cell_type": "code",
   "execution_count": 20,
   "id": "a85caf6c-41c5-4563-a363-31a016a50e5a",
   "metadata": {},
   "outputs": [],
   "source": [
    "train= pd.read_csv(\"../data/train.csv\")\n",
    "stores= pd.read_csv(\"../data/stores.csv\")\n",
    "features= pd.read_csv(\"../data/features.csv\")"
   ]
  },
  {
   "cell_type": "code",
   "execution_count": 21,
   "id": "d933d56c-2252-4fac-a49f-ae027646cd9b",
   "metadata": {},
   "outputs": [
    {
     "data": {
      "text/html": [
       "<div>\n",
       "<style scoped>\n",
       "    .dataframe tbody tr th:only-of-type {\n",
       "        vertical-align: middle;\n",
       "    }\n",
       "\n",
       "    .dataframe tbody tr th {\n",
       "        vertical-align: top;\n",
       "    }\n",
       "\n",
       "    .dataframe thead th {\n",
       "        text-align: right;\n",
       "    }\n",
       "</style>\n",
       "<table border=\"1\" class=\"dataframe\">\n",
       "  <thead>\n",
       "    <tr style=\"text-align: right;\">\n",
       "      <th></th>\n",
       "      <th>Store</th>\n",
       "      <th>Dept</th>\n",
       "      <th>Date</th>\n",
       "      <th>Weekly_Sales</th>\n",
       "      <th>IsHoliday</th>\n",
       "    </tr>\n",
       "  </thead>\n",
       "  <tbody>\n",
       "    <tr>\n",
       "      <th>0</th>\n",
       "      <td>1</td>\n",
       "      <td>1</td>\n",
       "      <td>2010-02-05</td>\n",
       "      <td>24924.50</td>\n",
       "      <td>False</td>\n",
       "    </tr>\n",
       "    <tr>\n",
       "      <th>1</th>\n",
       "      <td>1</td>\n",
       "      <td>1</td>\n",
       "      <td>2010-02-12</td>\n",
       "      <td>46039.49</td>\n",
       "      <td>True</td>\n",
       "    </tr>\n",
       "    <tr>\n",
       "      <th>2</th>\n",
       "      <td>1</td>\n",
       "      <td>1</td>\n",
       "      <td>2010-02-19</td>\n",
       "      <td>41595.55</td>\n",
       "      <td>False</td>\n",
       "    </tr>\n",
       "    <tr>\n",
       "      <th>3</th>\n",
       "      <td>1</td>\n",
       "      <td>1</td>\n",
       "      <td>2010-02-26</td>\n",
       "      <td>19403.54</td>\n",
       "      <td>False</td>\n",
       "    </tr>\n",
       "    <tr>\n",
       "      <th>4</th>\n",
       "      <td>1</td>\n",
       "      <td>1</td>\n",
       "      <td>2010-03-05</td>\n",
       "      <td>21827.90</td>\n",
       "      <td>False</td>\n",
       "    </tr>\n",
       "  </tbody>\n",
       "</table>\n",
       "</div>"
      ],
      "text/plain": [
       "   Store  Dept        Date  Weekly_Sales  IsHoliday\n",
       "0      1     1  2010-02-05      24924.50      False\n",
       "1      1     1  2010-02-12      46039.49       True\n",
       "2      1     1  2010-02-19      41595.55      False\n",
       "3      1     1  2010-02-26      19403.54      False\n",
       "4      1     1  2010-03-05      21827.90      False"
      ]
     },
     "execution_count": 21,
     "metadata": {},
     "output_type": "execute_result"
    }
   ],
   "source": [
    "train.head()"
   ]
  },
  {
   "cell_type": "code",
   "execution_count": 22,
   "id": "b1b77cf6-1d6d-423f-8193-08fc478c5231",
   "metadata": {},
   "outputs": [
    {
     "data": {
      "text/html": [
       "<div>\n",
       "<style scoped>\n",
       "    .dataframe tbody tr th:only-of-type {\n",
       "        vertical-align: middle;\n",
       "    }\n",
       "\n",
       "    .dataframe tbody tr th {\n",
       "        vertical-align: top;\n",
       "    }\n",
       "\n",
       "    .dataframe thead th {\n",
       "        text-align: right;\n",
       "    }\n",
       "</style>\n",
       "<table border=\"1\" class=\"dataframe\">\n",
       "  <thead>\n",
       "    <tr style=\"text-align: right;\">\n",
       "      <th></th>\n",
       "      <th>Store</th>\n",
       "      <th>Type</th>\n",
       "      <th>Size</th>\n",
       "    </tr>\n",
       "  </thead>\n",
       "  <tbody>\n",
       "    <tr>\n",
       "      <th>0</th>\n",
       "      <td>1</td>\n",
       "      <td>A</td>\n",
       "      <td>151315</td>\n",
       "    </tr>\n",
       "    <tr>\n",
       "      <th>1</th>\n",
       "      <td>2</td>\n",
       "      <td>A</td>\n",
       "      <td>202307</td>\n",
       "    </tr>\n",
       "    <tr>\n",
       "      <th>2</th>\n",
       "      <td>3</td>\n",
       "      <td>B</td>\n",
       "      <td>37392</td>\n",
       "    </tr>\n",
       "    <tr>\n",
       "      <th>3</th>\n",
       "      <td>4</td>\n",
       "      <td>A</td>\n",
       "      <td>205863</td>\n",
       "    </tr>\n",
       "    <tr>\n",
       "      <th>4</th>\n",
       "      <td>5</td>\n",
       "      <td>B</td>\n",
       "      <td>34875</td>\n",
       "    </tr>\n",
       "  </tbody>\n",
       "</table>\n",
       "</div>"
      ],
      "text/plain": [
       "   Store Type    Size\n",
       "0      1    A  151315\n",
       "1      2    A  202307\n",
       "2      3    B   37392\n",
       "3      4    A  205863\n",
       "4      5    B   34875"
      ]
     },
     "execution_count": 22,
     "metadata": {},
     "output_type": "execute_result"
    }
   ],
   "source": [
    "stores.head()"
   ]
  },
  {
   "cell_type": "code",
   "execution_count": 23,
   "id": "f5d8cac6-a1e6-4afc-ba90-78b9c78be5b3",
   "metadata": {},
   "outputs": [
    {
     "data": {
      "text/html": [
       "<div>\n",
       "<style scoped>\n",
       "    .dataframe tbody tr th:only-of-type {\n",
       "        vertical-align: middle;\n",
       "    }\n",
       "\n",
       "    .dataframe tbody tr th {\n",
       "        vertical-align: top;\n",
       "    }\n",
       "\n",
       "    .dataframe thead th {\n",
       "        text-align: right;\n",
       "    }\n",
       "</style>\n",
       "<table border=\"1\" class=\"dataframe\">\n",
       "  <thead>\n",
       "    <tr style=\"text-align: right;\">\n",
       "      <th></th>\n",
       "      <th>Store</th>\n",
       "      <th>Date</th>\n",
       "      <th>Temperature</th>\n",
       "      <th>Fuel_Price</th>\n",
       "      <th>MarkDown1</th>\n",
       "      <th>MarkDown2</th>\n",
       "      <th>MarkDown3</th>\n",
       "      <th>MarkDown4</th>\n",
       "      <th>MarkDown5</th>\n",
       "      <th>CPI</th>\n",
       "      <th>Unemployment</th>\n",
       "      <th>IsHoliday</th>\n",
       "    </tr>\n",
       "  </thead>\n",
       "  <tbody>\n",
       "    <tr>\n",
       "      <th>0</th>\n",
       "      <td>1</td>\n",
       "      <td>2010-02-05</td>\n",
       "      <td>42.31</td>\n",
       "      <td>2.572</td>\n",
       "      <td>NaN</td>\n",
       "      <td>NaN</td>\n",
       "      <td>NaN</td>\n",
       "      <td>NaN</td>\n",
       "      <td>NaN</td>\n",
       "      <td>211.096358</td>\n",
       "      <td>8.106</td>\n",
       "      <td>False</td>\n",
       "    </tr>\n",
       "    <tr>\n",
       "      <th>1</th>\n",
       "      <td>1</td>\n",
       "      <td>2010-02-12</td>\n",
       "      <td>38.51</td>\n",
       "      <td>2.548</td>\n",
       "      <td>NaN</td>\n",
       "      <td>NaN</td>\n",
       "      <td>NaN</td>\n",
       "      <td>NaN</td>\n",
       "      <td>NaN</td>\n",
       "      <td>211.242170</td>\n",
       "      <td>8.106</td>\n",
       "      <td>True</td>\n",
       "    </tr>\n",
       "    <tr>\n",
       "      <th>2</th>\n",
       "      <td>1</td>\n",
       "      <td>2010-02-19</td>\n",
       "      <td>39.93</td>\n",
       "      <td>2.514</td>\n",
       "      <td>NaN</td>\n",
       "      <td>NaN</td>\n",
       "      <td>NaN</td>\n",
       "      <td>NaN</td>\n",
       "      <td>NaN</td>\n",
       "      <td>211.289143</td>\n",
       "      <td>8.106</td>\n",
       "      <td>False</td>\n",
       "    </tr>\n",
       "    <tr>\n",
       "      <th>3</th>\n",
       "      <td>1</td>\n",
       "      <td>2010-02-26</td>\n",
       "      <td>46.63</td>\n",
       "      <td>2.561</td>\n",
       "      <td>NaN</td>\n",
       "      <td>NaN</td>\n",
       "      <td>NaN</td>\n",
       "      <td>NaN</td>\n",
       "      <td>NaN</td>\n",
       "      <td>211.319643</td>\n",
       "      <td>8.106</td>\n",
       "      <td>False</td>\n",
       "    </tr>\n",
       "    <tr>\n",
       "      <th>4</th>\n",
       "      <td>1</td>\n",
       "      <td>2010-03-05</td>\n",
       "      <td>46.50</td>\n",
       "      <td>2.625</td>\n",
       "      <td>NaN</td>\n",
       "      <td>NaN</td>\n",
       "      <td>NaN</td>\n",
       "      <td>NaN</td>\n",
       "      <td>NaN</td>\n",
       "      <td>211.350143</td>\n",
       "      <td>8.106</td>\n",
       "      <td>False</td>\n",
       "    </tr>\n",
       "  </tbody>\n",
       "</table>\n",
       "</div>"
      ],
      "text/plain": [
       "   Store        Date  Temperature  Fuel_Price  MarkDown1  MarkDown2  \\\n",
       "0      1  2010-02-05        42.31       2.572        NaN        NaN   \n",
       "1      1  2010-02-12        38.51       2.548        NaN        NaN   \n",
       "2      1  2010-02-19        39.93       2.514        NaN        NaN   \n",
       "3      1  2010-02-26        46.63       2.561        NaN        NaN   \n",
       "4      1  2010-03-05        46.50       2.625        NaN        NaN   \n",
       "\n",
       "   MarkDown3  MarkDown4  MarkDown5         CPI  Unemployment  IsHoliday  \n",
       "0        NaN        NaN        NaN  211.096358         8.106      False  \n",
       "1        NaN        NaN        NaN  211.242170         8.106       True  \n",
       "2        NaN        NaN        NaN  211.289143         8.106      False  \n",
       "3        NaN        NaN        NaN  211.319643         8.106      False  \n",
       "4        NaN        NaN        NaN  211.350143         8.106      False  "
      ]
     },
     "execution_count": 23,
     "metadata": {},
     "output_type": "execute_result"
    }
   ],
   "source": [
    "features.head()"
   ]
  },
  {
   "cell_type": "code",
   "execution_count": 24,
   "id": "0605d4b2-18c6-4312-969a-e1af821fe3ad",
   "metadata": {},
   "outputs": [
    {
     "name": "stdout",
     "output_type": "stream",
     "text": [
      "<class 'pandas.core.frame.DataFrame'>\n",
      "RangeIndex: 421570 entries, 0 to 421569\n",
      "Data columns (total 5 columns):\n",
      " #   Column        Non-Null Count   Dtype  \n",
      "---  ------        --------------   -----  \n",
      " 0   Store         421570 non-null  int64  \n",
      " 1   Dept          421570 non-null  int64  \n",
      " 2   Date          421570 non-null  object \n",
      " 3   Weekly_Sales  421570 non-null  float64\n",
      " 4   IsHoliday     421570 non-null  bool   \n",
      "dtypes: bool(1), float64(1), int64(2), object(1)\n",
      "memory usage: 13.3+ MB\n"
     ]
    }
   ],
   "source": [
    "train.info()"
   ]
  },
  {
   "cell_type": "code",
   "execution_count": 27,
   "id": "bac6397b-12a0-4729-ab17-1655158a3f7a",
   "metadata": {},
   "outputs": [
    {
     "data": {
      "text/plain": [
       "Store\n",
       "13    10474\n",
       "10    10315\n",
       "4     10272\n",
       "1     10244\n",
       "2     10238\n",
       "24    10228\n",
       "27    10225\n",
       "34    10224\n",
       "20    10214\n",
       "6     10211\n",
       "32    10202\n",
       "19    10148\n",
       "31    10142\n",
       "28    10113\n",
       "41    10088\n",
       "11    10062\n",
       "23    10050\n",
       "14    10040\n",
       "40    10017\n",
       "15     9901\n",
       "8      9895\n",
       "39     9878\n",
       "17     9864\n",
       "18     9859\n",
       "26     9854\n",
       "25     9804\n",
       "7      9762\n",
       "12     9705\n",
       "22     9688\n",
       "45     9637\n",
       "21     9582\n",
       "35     9528\n",
       "29     9455\n",
       "16     9443\n",
       "3      9036\n",
       "5      8999\n",
       "9      8867\n",
       "38     7362\n",
       "37     7206\n",
       "44     7169\n",
       "30     7156\n",
       "42     6953\n",
       "43     6751\n",
       "33     6487\n",
       "36     6222\n",
       "Name: count, dtype: int64"
      ]
     },
     "execution_count": 27,
     "metadata": {},
     "output_type": "execute_result"
    }
   ],
   "source": [
    "train.Store.value_counts(dropna= False)"
   ]
  },
  {
   "cell_type": "code",
   "execution_count": 28,
   "id": "92ba2ff0-f4f8-4ec6-abdd-11dc78b8c8da",
   "metadata": {},
   "outputs": [
    {
     "data": {
      "text/plain": [
       "Dept\n",
       "1     6435\n",
       "16    6435\n",
       "92    6435\n",
       "38    6435\n",
       "40    6435\n",
       "      ... \n",
       "78     235\n",
       "77     150\n",
       "65     143\n",
       "39      16\n",
       "43      12\n",
       "Name: count, Length: 81, dtype: int64"
      ]
     },
     "execution_count": 28,
     "metadata": {},
     "output_type": "execute_result"
    }
   ],
   "source": [
    "train.Dept.value_counts(dropna=False)"
   ]
  },
  {
   "cell_type": "code",
   "execution_count": 29,
   "id": "8b3c18f4-6475-491b-afc6-56b5bf0b0855",
   "metadata": {},
   "outputs": [
    {
     "data": {
      "text/plain": [
       "IsHoliday\n",
       "False    391909\n",
       "True      29661\n",
       "Name: count, dtype: int64"
      ]
     },
     "execution_count": 29,
     "metadata": {},
     "output_type": "execute_result"
    }
   ],
   "source": [
    "train.IsHoliday.value_counts(dropna=False)"
   ]
  },
  {
   "cell_type": "code",
   "execution_count": 30,
   "id": "62682b5c-e32a-44af-ae42-cc4803883b72",
   "metadata": {},
   "outputs": [
    {
     "name": "stdout",
     "output_type": "stream",
     "text": [
      "<class 'pandas.core.frame.DataFrame'>\n",
      "RangeIndex: 45 entries, 0 to 44\n",
      "Data columns (total 3 columns):\n",
      " #   Column  Non-Null Count  Dtype \n",
      "---  ------  --------------  ----- \n",
      " 0   Store   45 non-null     int64 \n",
      " 1   Type    45 non-null     object\n",
      " 2   Size    45 non-null     int64 \n",
      "dtypes: int64(2), object(1)\n",
      "memory usage: 1.2+ KB\n"
     ]
    }
   ],
   "source": [
    "stores.info()"
   ]
  },
  {
   "cell_type": "code",
   "execution_count": 32,
   "id": "c20685a3-4534-4d8b-ad15-26927d413bbd",
   "metadata": {},
   "outputs": [
    {
     "data": {
      "text/plain": [
       "Type\n",
       "A    22\n",
       "B    17\n",
       "C     6\n",
       "Name: count, dtype: int64"
      ]
     },
     "execution_count": 32,
     "metadata": {},
     "output_type": "execute_result"
    }
   ],
   "source": [
    "stores.Type.value_counts(dropna=False)"
   ]
  },
  {
   "cell_type": "code",
   "execution_count": 34,
   "id": "19d62d2f-fdc3-4104-b383-24bc7b4481d9",
   "metadata": {},
   "outputs": [
    {
     "name": "stdout",
     "output_type": "stream",
     "text": [
      "<class 'pandas.core.frame.DataFrame'>\n",
      "RangeIndex: 8190 entries, 0 to 8189\n",
      "Data columns (total 12 columns):\n",
      " #   Column        Non-Null Count  Dtype  \n",
      "---  ------        --------------  -----  \n",
      " 0   Store         8190 non-null   int64  \n",
      " 1   Date          8190 non-null   object \n",
      " 2   Temperature   8190 non-null   float64\n",
      " 3   Fuel_Price    8190 non-null   float64\n",
      " 4   MarkDown1     4032 non-null   float64\n",
      " 5   MarkDown2     2921 non-null   float64\n",
      " 6   MarkDown3     3613 non-null   float64\n",
      " 7   MarkDown4     3464 non-null   float64\n",
      " 8   MarkDown5     4050 non-null   float64\n",
      " 9   CPI           7605 non-null   float64\n",
      " 10  Unemployment  7605 non-null   float64\n",
      " 11  IsHoliday     8190 non-null   bool   \n",
      "dtypes: bool(1), float64(9), int64(1), object(1)\n",
      "memory usage: 712.0+ KB\n"
     ]
    }
   ],
   "source": [
    "features.info()"
   ]
  },
  {
   "cell_type": "code",
   "execution_count": 46,
   "id": "05999260-e4fe-41d4-9a8b-b391051ddfa1",
   "metadata": {},
   "outputs": [
    {
     "data": {
      "text/plain": [
       "IsHoliday\n",
       "False    7605\n",
       "True      585\n",
       "Name: count, dtype: int64"
      ]
     },
     "execution_count": 46,
     "metadata": {},
     "output_type": "execute_result"
    }
   ],
   "source": [
    "features.IsHoliday.value_counts(dropna=False)"
   ]
  },
  {
   "cell_type": "code",
   "execution_count": 44,
   "id": "503aebfd-578f-4b85-bb93-800bee3e4e96",
   "metadata": {},
   "outputs": [
    {
     "name": "stdout",
     "output_type": "stream",
     "text": [
      "(421570, 5)\n",
      "(45, 3)\n"
     ]
    }
   ],
   "source": [
    "print(train.shape)\n",
    "print(stores.shape)"
   ]
  },
  {
   "cell_type": "code",
   "execution_count": 49,
   "id": "6de02ded-0725-4361-8c60-666b167eb8ea",
   "metadata": {},
   "outputs": [
    {
     "name": "stdout",
     "output_type": "stream",
     "text": [
      "(421570, 16)\n",
      "\n",
      "\n"
     ]
    },
    {
     "data": {
      "text/html": [
       "<div>\n",
       "<style scoped>\n",
       "    .dataframe tbody tr th:only-of-type {\n",
       "        vertical-align: middle;\n",
       "    }\n",
       "\n",
       "    .dataframe tbody tr th {\n",
       "        vertical-align: top;\n",
       "    }\n",
       "\n",
       "    .dataframe thead th {\n",
       "        text-align: right;\n",
       "    }\n",
       "</style>\n",
       "<table border=\"1\" class=\"dataframe\">\n",
       "  <thead>\n",
       "    <tr style=\"text-align: right;\">\n",
       "      <th></th>\n",
       "      <th>Store</th>\n",
       "      <th>Dept</th>\n",
       "      <th>Date</th>\n",
       "      <th>Weekly_Sales</th>\n",
       "      <th>IsHoliday</th>\n",
       "      <th>Type</th>\n",
       "      <th>Size</th>\n",
       "      <th>Temperature</th>\n",
       "      <th>Fuel_Price</th>\n",
       "      <th>MarkDown1</th>\n",
       "      <th>MarkDown2</th>\n",
       "      <th>MarkDown3</th>\n",
       "      <th>MarkDown4</th>\n",
       "      <th>MarkDown5</th>\n",
       "      <th>CPI</th>\n",
       "      <th>Unemployment</th>\n",
       "    </tr>\n",
       "  </thead>\n",
       "  <tbody>\n",
       "    <tr>\n",
       "      <th>0</th>\n",
       "      <td>1</td>\n",
       "      <td>1</td>\n",
       "      <td>2010-02-05</td>\n",
       "      <td>24924.50</td>\n",
       "      <td>False</td>\n",
       "      <td>A</td>\n",
       "      <td>151315</td>\n",
       "      <td>42.31</td>\n",
       "      <td>2.572</td>\n",
       "      <td>NaN</td>\n",
       "      <td>NaN</td>\n",
       "      <td>NaN</td>\n",
       "      <td>NaN</td>\n",
       "      <td>NaN</td>\n",
       "      <td>211.096358</td>\n",
       "      <td>8.106</td>\n",
       "    </tr>\n",
       "    <tr>\n",
       "      <th>1</th>\n",
       "      <td>1</td>\n",
       "      <td>1</td>\n",
       "      <td>2010-02-12</td>\n",
       "      <td>46039.49</td>\n",
       "      <td>True</td>\n",
       "      <td>A</td>\n",
       "      <td>151315</td>\n",
       "      <td>38.51</td>\n",
       "      <td>2.548</td>\n",
       "      <td>NaN</td>\n",
       "      <td>NaN</td>\n",
       "      <td>NaN</td>\n",
       "      <td>NaN</td>\n",
       "      <td>NaN</td>\n",
       "      <td>211.242170</td>\n",
       "      <td>8.106</td>\n",
       "    </tr>\n",
       "    <tr>\n",
       "      <th>2</th>\n",
       "      <td>1</td>\n",
       "      <td>1</td>\n",
       "      <td>2010-02-19</td>\n",
       "      <td>41595.55</td>\n",
       "      <td>False</td>\n",
       "      <td>A</td>\n",
       "      <td>151315</td>\n",
       "      <td>39.93</td>\n",
       "      <td>2.514</td>\n",
       "      <td>NaN</td>\n",
       "      <td>NaN</td>\n",
       "      <td>NaN</td>\n",
       "      <td>NaN</td>\n",
       "      <td>NaN</td>\n",
       "      <td>211.289143</td>\n",
       "      <td>8.106</td>\n",
       "    </tr>\n",
       "    <tr>\n",
       "      <th>3</th>\n",
       "      <td>1</td>\n",
       "      <td>1</td>\n",
       "      <td>2010-02-26</td>\n",
       "      <td>19403.54</td>\n",
       "      <td>False</td>\n",
       "      <td>A</td>\n",
       "      <td>151315</td>\n",
       "      <td>46.63</td>\n",
       "      <td>2.561</td>\n",
       "      <td>NaN</td>\n",
       "      <td>NaN</td>\n",
       "      <td>NaN</td>\n",
       "      <td>NaN</td>\n",
       "      <td>NaN</td>\n",
       "      <td>211.319643</td>\n",
       "      <td>8.106</td>\n",
       "    </tr>\n",
       "    <tr>\n",
       "      <th>4</th>\n",
       "      <td>1</td>\n",
       "      <td>1</td>\n",
       "      <td>2010-03-05</td>\n",
       "      <td>21827.90</td>\n",
       "      <td>False</td>\n",
       "      <td>A</td>\n",
       "      <td>151315</td>\n",
       "      <td>46.50</td>\n",
       "      <td>2.625</td>\n",
       "      <td>NaN</td>\n",
       "      <td>NaN</td>\n",
       "      <td>NaN</td>\n",
       "      <td>NaN</td>\n",
       "      <td>NaN</td>\n",
       "      <td>211.350143</td>\n",
       "      <td>8.106</td>\n",
       "    </tr>\n",
       "  </tbody>\n",
       "</table>\n",
       "</div>"
      ],
      "text/plain": [
       "   Store  Dept        Date  Weekly_Sales  IsHoliday Type    Size  Temperature  \\\n",
       "0      1     1  2010-02-05      24924.50      False    A  151315        42.31   \n",
       "1      1     1  2010-02-12      46039.49       True    A  151315        38.51   \n",
       "2      1     1  2010-02-19      41595.55      False    A  151315        39.93   \n",
       "3      1     1  2010-02-26      19403.54      False    A  151315        46.63   \n",
       "4      1     1  2010-03-05      21827.90      False    A  151315        46.50   \n",
       "\n",
       "   Fuel_Price  MarkDown1  MarkDown2  MarkDown3  MarkDown4  MarkDown5  \\\n",
       "0       2.572        NaN        NaN        NaN        NaN        NaN   \n",
       "1       2.548        NaN        NaN        NaN        NaN        NaN   \n",
       "2       2.514        NaN        NaN        NaN        NaN        NaN   \n",
       "3       2.561        NaN        NaN        NaN        NaN        NaN   \n",
       "4       2.625        NaN        NaN        NaN        NaN        NaN   \n",
       "\n",
       "          CPI  Unemployment  \n",
       "0  211.096358         8.106  \n",
       "1  211.242170         8.106  \n",
       "2  211.289143         8.106  \n",
       "3  211.319643         8.106  \n",
       "4  211.350143         8.106  "
      ]
     },
     "execution_count": 49,
     "metadata": {},
     "output_type": "execute_result"
    }
   ],
   "source": [
    "df = train.merge(stores, on='Store', how='left')\n",
    "df = df.merge(features, on=['Store', 'Date'], how='left', suffixes=('', '_features'))\n",
    "df['IsHoliday']= df['IsHoliday_features'].fillna(df['IsHoliday'])\n",
    "df= df.drop(columns= ['IsHoliday_features'])\n",
    "\n",
    "\n",
    "print(df.shape)\n",
    "print(\"\\n\")\n",
    "df.head()"
   ]
  },
  {
   "cell_type": "code",
   "execution_count": 50,
   "id": "4a5e4fdc-0063-461c-bff7-c71d7c8e0b44",
   "metadata": {},
   "outputs": [
    {
     "data": {
      "text/plain": [
       "45"
      ]
     },
     "execution_count": 50,
     "metadata": {},
     "output_type": "execute_result"
    }
   ],
   "source": [
    "df.Store.nunique()"
   ]
  },
  {
   "cell_type": "code",
   "execution_count": 51,
   "id": "1bf845d3-c5ec-4ac5-92e6-8500b0cdef06",
   "metadata": {},
   "outputs": [
    {
     "name": "stdout",
     "output_type": "stream",
     "text": [
      "2010-02-05\n",
      "2012-10-26\n"
     ]
    }
   ],
   "source": [
    "print(df['Date'].min())\n",
    "print(df['Date'].max())"
   ]
  },
  {
   "cell_type": "markdown",
   "id": "c0b26393-b8d4-4d41-845c-4a7a6c5b612f",
   "metadata": {},
   "source": [
    "# Feature Engineering "
   ]
  },
  {
   "cell_type": "code",
   "execution_count": 52,
   "id": "67f1a01f-6cec-4757-83c7-38040ff80502",
   "metadata": {},
   "outputs": [
    {
     "name": "stdout",
     "output_type": "stream",
     "text": [
      "Missing values after lag creation:\n",
      "Weekly_Sales_Lag1       3331\n",
      "Weekly_Sales_Lag2       6625\n",
      "Sales_Rolling_Mean_3       1\n",
      "dtype: int64\n"
     ]
    }
   ],
   "source": [
    "df['Date']= pd.to_datetime(df['Date'])\n",
    "df['Year']= df['Date'].dt.year\n",
    "df['Month']= df['Date'].dt.month\n",
    "df['Day']= df['Date'].dt.day\n",
    "\n",
    "# Capture seasonal patterns\n",
    "df['WeekOfYear']= df['Date'].dt.isocalendar().week.astype(int) \n",
    "\n",
    "df['IsHoliday']= df['IsHoliday'].astype(int) \n",
    "\n",
    "df= df.sort_values(['Store','Dept', 'Date']).reset_index(drop= True) \n",
    "\n",
    "# Create lag features \n",
    "df['Weekly_Sales_Lag1'] = df.groupby(['Store', 'Dept'])['Weekly_Sales'].shift(1)  #One week ago\n",
    "df['Weekly_Sales_Lag2'] = df.groupby(['Store', 'Dept'])['Weekly_Sales'].shift(2)  #two weeks ago\n",
    "df['Weekly_Sales_Lag3']= df.groupby(['Store', 'Dept'])['Weekly_Sales'].shift(3)   #Three weeks ago \n",
    "\n",
    "\n",
    "# Rolling average (3-week moving average of sales)  Smooth out noise, capture trend\n",
    "df['Sales_Rolling_Mean_3']= df.groupby(['Store', 'Dept'])['Weekly_Sales'].shift(1).rolling(window=3, min_periods=1).mean() \n",
    "\n",
    "\n",
    "print(\"Missing values after lag creation:\")\n",
    "print(df[['Weekly_Sales_Lag1', 'Weekly_Sales_Lag2', 'Sales_Rolling_Mean_3']].isnull().sum())\n",
    "\n",
    "\n",
    "\n",
    "\n"
   ]
  },
  {
   "cell_type": "code",
   "execution_count": 53,
   "id": "9250752b-0e0a-4297-a16c-45eaac6dd547",
   "metadata": {},
   "outputs": [
    {
     "name": "stdout",
     "output_type": "stream",
     "text": [
      "Original shape: (421570, 24)\n",
      "Cleaned shape: (414945, 24)\n",
      "Dropped 6625 rows (1.6%)\n"
     ]
    }
   ],
   "source": [
    "# Drop rows where key features are NaN\n",
    "df_clean = df.dropna(subset=['Weekly_Sales_Lag1', 'Weekly_Sales_Lag2', 'Sales_Rolling_Mean_3'])\n",
    "\n",
    "print(f\"Original shape: {df.shape}\")\n",
    "print(f\"Cleaned shape: {df_clean.shape}\")\n",
    "print(f\"Dropped {df.shape[0] - df_clean.shape[0]} rows ({100*(df.shape[0]-df_clean.shape[0])/df.shape[0]:.1f}%)\")"
   ]
  },
  {
   "cell_type": "markdown",
   "id": "d1c02005-59d8-4195-bd26-2670822726aa",
   "metadata": {},
   "source": [
    "# Baseline Model "
   ]
  },
  {
   "cell_type": "code",
   "execution_count": 56,
   "id": "4f4235f6-08d0-411c-aa63-8dd36e54ac13",
   "metadata": {},
   "outputs": [],
   "source": [
    "df_clean = df_clean.sort_values('Date').reset_index(drop=True)\n",
    "\n",
    "\n",
    "subset= [\n",
    "    'Store', 'Dept', 'IsHoliday',  'Size',\n",
    "    'Temperature', 'Fuel_Price',  'CPI', 'Unemployment', \n",
    "     'Year', 'Month', 'WeekOfYear',\n",
    "    'Weekly_Sales_Lag1', 'Weekly_Sales_Lag2', 'Sales_Rolling_Mean_3'\n",
    "]\n",
    "df_clean = df_clean.dropna(subset=subset) \n",
    "\n",
    "X = df_clean[subset]\n",
    "y= df_clean['Weekly_Sales']\n",
    "\n",
    "\n",
    "X= X.copy() \n",
    "store_le= LabelEncoder() \n",
    "dept_le = LabelEncoder()\n",
    "\n",
    "X['Store']= store_le.fit_transform(X['Store'])\n",
    "X['Dept']= dept_le.fit_transform(X['Dept'])"
   ]
  },
  {
   "cell_type": "code",
   "execution_count": 57,
   "id": "560b1e03-8a73-4b00-9bab-4ca0c55133b9",
   "metadata": {},
   "outputs": [
    {
     "name": "stdout",
     "output_type": "stream",
     "text": [
      "(287567, 14)\n",
      "(127378, 14)\n",
      "(287567,)\n",
      "(127378,)\n",
      "\n",
      "\n",
      "Train Period: 2010-02-19 00:00:00 to 2011-12-30 00:00:00\n",
      "Validation Period: 2012-01-06 00:00:00  to  2012-10-26 00:00:00\n"
     ]
    }
   ],
   "source": [
    "split_date = '2012-01-01'\n",
    "\n",
    "# Train on past , validate on the future \n",
    "train_mask= df_clean['Date'] < split_date \n",
    "val_mask= df_clean['Date'] >= split_date  \n",
    "\n",
    "X_train, X_val = X[train_mask], X[val_mask]\n",
    "y_train, y_val = y[train_mask], y[val_mask]  \n",
    "\n",
    "print(X_train.shape)\n",
    "print(X_val.shape) \n",
    "print(y_train.shape) \n",
    "print(y_val.shape)\n",
    "print(\"\\n\")\n",
    "\n",
    "\n",
    "print(f\"Train Period: {df_clean.loc[train_mask,'Date'].min()} to {df_clean.loc[train_mask, 'Date'].max()}\")\n",
    "print(f\"Validation Period: {df_clean.loc[val_mask, 'Date'].min()}  to  {df_clean.loc[val_mask,'Date'].max()}\")"
   ]
  },
  {
   "cell_type": "code",
   "execution_count": 59,
   "id": "7914e132-9497-41c7-81a7-da31f07463be",
   "metadata": {},
   "outputs": [
    {
     "name": "stdout",
     "output_type": "stream",
     "text": [
      " Mean Absolute Error: $1,621.91\n",
      "Root Mean Square Error: $3,596.41\n"
     ]
    }
   ],
   "source": [
    "rf= RandomForestRegressor(\n",
    "    n_estimators=100, \n",
    "    max_depth=15, \n",
    "    random_state=42,\n",
    "    max_features='sqrt'\n",
    "    n_jobs=-1\n",
    ")\n",
    "\n",
    "rf.fit(X_train, y_train)\n",
    "\n",
    "y_pred= rf.predict(X_val)\n",
    "\n",
    "mae= mean_absolute_error(y_val,y_pred)\n",
    "rmse= np.sqrt(mean_squared_error(y_val, y_pred))\n",
    "\n",
    "\n",
    "print(f\" Mean Absolute Error: ${mae:,.2f}\")\n",
    "print(f\" Root Mean Square Error: ${rmse:,.2f}\")"
   ]
  },
  {
   "cell_type": "code",
   "execution_count": 62,
   "id": "fd6bac2d-2e4f-4440-807b-6076658e7bc1",
   "metadata": {},
   "outputs": [
    {
     "data": {
      "image/png": "[encoded data removed]",
      "text/plain": [
       "<Figure size 1200x500 with 1 Axes>"
      ]
     },
     "metadata": {},
     "output_type": "display_data"
    }
   ],
   "source": [
    "val_df= df_clean[val_mask].copy() \n",
    "val_df['Predicted_Sales']= y_pred\n",
    "\n",
    "sample= val_df[(val_df['Store'] == 1) & (val_df['Dept'] == 1)]\n",
    "\n",
    "\n",
    "plt.figure(figsize=(12,5))\n",
    "plt.plot(sample['Date'], sample['Weekly_Sales'], label='Actual', color= 'blue')\n",
    "plt.plot(sample['Date'], sample['Predicted_Sales'], label= 'Predicted', color= 'red', linestyle='--')\n",
    "\n",
    "\n",
    "\n",
    "plt.title('Store 1, Dept 1: Actual vs Predicted Weekly Sales')\n",
    "plt.xlabel('Date')\n",
    "plt.ylabel('Sales ($)')\n",
    "plt.legend() \n",
    "plt.grid(True)\n",
    "plt.tight_layout() \n",
    "plt.show()\n"
   ]
  },
  {
   "cell_type": "markdown",
   "id": "82e35739-b60b-4679-ac4e-e1d15635dfbd",
   "metadata": {},
   "source": [
    "# Use XGBoost with time-aware validation"
   ]
  },
  {
   "cell_type": "code",
   "execution_count": null,
   "id": "127d249c-1376-4fe0-af86-adabd4451997",
   "metadata": {},
   "outputs": [],
   "source": []
  }
 ],
 "metadata": {
  "kernelspec": {
   "display_name": "Python 3 (ipykernel)",
   "language": "python",
   "name": "python3"
  },
  "language_info": {
   "codemirror_mode": {
    "name": "ipython",
    "version": 3
   },
   "file_extension": ".py",
   "mimetype": "text/x-python",
   "name": "python",
   "nbconvert_exporter": "python",
   "pygments_lexer": "ipython3",
   "version": "3.9.23"
  }
 },
 "nbformat": 4,
 "nbformat_minor": 5
}
