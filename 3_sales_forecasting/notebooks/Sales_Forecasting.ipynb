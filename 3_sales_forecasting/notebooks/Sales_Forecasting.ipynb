{
 "cells": [
  {
   "cell_type": "code",
   "execution_count": 1,
   "id": "63ab60ce-4ef0-4b74-b34b-690b53b5c6c7",
   "metadata": {},
   "outputs": [],
   "source": [
    "import pandas as pd\n",
    "import numpy as np\n",
    "import matplotlib.pyplot as plt\n",
    "import seaborn as sns\n",
    "from sklearn.ensemble import RandomForestRegressor\n",
    "from sklearn.model_selection import TimeSeriesSplit\n",
    "from sklearn.metrics import mean_squared_error, mean_absolute_error\n",
    "import xgboost as xgb\n"
   ]
  },
  {
   "cell_type": "code",
   "execution_count": 3,
   "id": "6befcefd-0019-46c0-9c2e-2eb22c1e12bc",
   "metadata": {},
   "outputs": [
    {
     "name": "stdout",
     "output_type": "stream",
     "text": [
      "Collecting kaggle\n",
      "  Downloading kaggle-1.7.4.5-py3-none-any.whl.metadata (16 kB)\n",
      "Requirement already satisfied: bleach in c:\\users\\athar\\anaconda3\\envs\\ml_5tasks\\lib\\site-packages (from kaggle) (6.2.0)\n",
      "Requirement already satisfied: certifi>=14.05.14 in c:\\users\\athar\\anaconda3\\envs\\ml_5tasks\\lib\\site-packages (from kaggle) (2025.8.3)\n",
      "Requirement already satisfied: charset-normalizer in c:\\users\\athar\\anaconda3\\envs\\ml_5tasks\\lib\\site-packages (from kaggle) (3.4.3)\n",
      "Requirement already satisfied: idna in c:\\users\\athar\\anaconda3\\envs\\ml_5tasks\\lib\\site-packages (from kaggle) (3.10)\n",
      "Requirement already satisfied: protobuf in c:\\users\\athar\\anaconda3\\envs\\ml_5tasks\\lib\\site-packages (from kaggle) (6.32.1)\n",
      "Requirement already satisfied: python-dateutil>=2.5.3 in c:\\users\\athar\\anaconda3\\envs\\ml_5tasks\\lib\\site-packages (from kaggle) (2.9.0.post0)\n",
      "Collecting python-slugify (from kaggle)\n",
      "  Downloading python_slugify-8.0.4-py2.py3-none-any.whl.metadata (8.5 kB)\n",
      "Requirement already satisfied: requests in c:\\users\\athar\\anaconda3\\envs\\ml_5tasks\\lib\\site-packages (from kaggle) (2.32.5)\n",
      "Requirement already satisfied: setuptools>=21.0.0 in c:\\users\\athar\\anaconda3\\envs\\ml_5tasks\\lib\\site-packages (from kaggle) (78.1.1)\n",
      "Requirement already satisfied: six>=1.10 in c:\\users\\athar\\anaconda3\\envs\\ml_5tasks\\lib\\site-packages (from kaggle) (1.17.0)\n",
      "Collecting text-unidecode (from kaggle)\n",
      "  Downloading text_unidecode-1.3-py2.py3-none-any.whl.metadata (2.4 kB)\n",
      "Requirement already satisfied: tqdm in c:\\users\\athar\\anaconda3\\envs\\ml_5tasks\\lib\\site-packages (from kaggle) (4.67.1)\n",
      "Requirement already satisfied: urllib3>=1.15.1 in c:\\users\\athar\\anaconda3\\envs\\ml_5tasks\\lib\\site-packages (from kaggle) (2.5.0)\n",
      "Requirement already satisfied: webencodings in c:\\users\\athar\\anaconda3\\envs\\ml_5tasks\\lib\\site-packages (from kaggle) (0.5.1)\n",
      "Requirement already satisfied: colorama in c:\\users\\athar\\anaconda3\\envs\\ml_5tasks\\lib\\site-packages (from tqdm->kaggle) (0.4.6)\n",
      "Downloading kaggle-1.7.4.5-py3-none-any.whl (181 kB)\n",
      "Downloading python_slugify-8.0.4-py2.py3-none-any.whl (10 kB)\n",
      "Downloading text_unidecode-1.3-py2.py3-none-any.whl (78 kB)\n",
      "Installing collected packages: text-unidecode, python-slugify, kaggle\n",
      "\n",
      "   ------------- -------------------------- 1/3 [python-slugify]\n",
      "   -------------------------- ------------- 2/3 [kaggle]\n",
      "   -------------------------- ------------- 2/3 [kaggle]\n",
      "   -------------------------- ------------- 2/3 [kaggle]\n",
      "   -------------------------- ------------- 2/3 [kaggle]\n",
      "   -------------------------- ------------- 2/3 [kaggle]\n",
      "   -------------------------- ------------- 2/3 [kaggle]\n",
      "   -------------------------- ------------- 2/3 [kaggle]\n",
      "   -------------------------- ------------- 2/3 [kaggle]\n",
      "   -------------------------- ------------- 2/3 [kaggle]\n",
      "   -------------------------- ------------- 2/3 [kaggle]\n",
      "   ---------------------------------------- 3/3 [kaggle]\n",
      "\n",
      "Successfully installed kaggle-1.7.4.5 python-slugify-8.0.4 text-unidecode-1.3\n"
     ]
    }
   ],
   "source": [
    "!pip install kaggle\n"
   ]
  },
  {
   "cell_type": "code",
   "execution_count": 11,
   "id": "d9673556-1a50-4383-a1b7-f32383d7fc98",
   "metadata": {},
   "outputs": [],
   "source": [
    "# import shutil, os\n",
    "\n",
    "\n",
    "# os.makedirs(\"D:\\\\ml_internship\\\\3_sales_forecasting\\\\data\\\\.kaggle\", exist_ok=True)\n",
    "\n",
    "# shutil.move(\"D:\\\\ml_internship\\\\3_sales_forecasting\\\\notebooks\\\\kaggle.json\",\n",
    "#            \"D:\\\\ml_internship\\\\3_sales_forecasting\\\\data\\\\.kaggle\\\\kaggle.json\")\n",
    "\n",
    "\n"
   ]
  },
  {
   "cell_type": "code",
   "execution_count": 13,
   "id": "fcd68e37-a860-4b40-8f91-eccb5aa0c5d4",
   "metadata": {},
   "outputs": [
    {
     "name": "stdout",
     "output_type": "stream",
     "text": [
      " Copied kaggle.json to the default location.\n"
     ]
    }
   ],
   "source": [
    "import shutil, os\n",
    "os.remove(r\"C:\\Users\\Athar\\.kaggle\\kaggle.json\")\n",
    "\n",
    "os.makedirs(r\"C:\\Users\\Athar\\.kaggle\", exist_ok=True)\n",
    "shutil.copy(\n",
    "    r\"D:\\ml_internship\\3_sales_forecasting\\data\\.kaggle\\kaggle.json\",\n",
    "    r\"C:\\Users\\Athar\\.kaggle\\kaggle.json\"\n",
    ")\n",
    "print(\" Copied kaggle.json to the default location.\")\n"
   ]
  },
  {
   "cell_type": "code",
   "execution_count": 10,
   "id": "5ffbd450-720d-4fad-944f-6411cdfbe721",
   "metadata": {},
   "outputs": [
    {
     "name": "stdout",
     "output_type": "stream",
     "text": [
      "Downloading walmart-recruiting-store-sales-forecasting.zip to D:\\ml_internship\\3_sales_forecasting\\notebooks\n",
      "\n"
     ]
    },
    {
     "name": "stderr",
     "output_type": "stream",
     "text": [
      "\n",
      "  0%|          | 0.00/2.70M [00:00<?, ?B/s]\n",
      "100%|##########| 2.70M/2.70M [00:00<00:00, 20.4MB/s]\n",
      "100%|##########| 2.70M/2.70M [00:00<00:00, 17.3MB/s]\n"
     ]
    }
   ],
   "source": [
    "!kaggle competitions download -c walmart-recruiting-store-sales-forecasting\n"
   ]
  },
  {
   "cell_type": "code",
   "execution_count": 14,
   "id": "16fba99a-36ba-4d97-a62e-666f9cd4cc39",
   "metadata": {},
   "outputs": [
    {
     "name": "stdout",
     "output_type": "stream",
     "text": [
      "Moved to: D:\\ml_internship\\3_sales_forecasting\\data\\walmart-recruiting-store-sales-forecasting.zip\n",
      "Extracted contents to: D:\\ml_internship\\3_sales_forecasting\\data\n"
     ]
    }
   ],
   "source": [
    "\n",
    "import zipfile\n",
    "\n",
    "\n",
    "# Define paths\n",
    "src = \"walmart-recruiting-store-sales-forecasting.zip\"  \n",
    "dest_folder = r\"D:\\ml_internship\\3_sales_forecasting\\data\"\n",
    "dest_zip = os.path.join(dest_folder, \"walmart-recruiting-store-sales-forecasting.zip\")\n",
    "\n",
    "# Make sure the destination folder exists\n",
    "os.makedirs(dest_folder, exist_ok=True)\n",
    "\n",
    "# Move the zip file to the data folder\n",
    "shutil.move(src, dest_zip)\n",
    "print(f\"Moved to: {dest_zip}\")\n",
    "\n",
    "# Extract the ZIP file inside the data folder\n",
    "with zipfile.ZipFile(dest_zip, 'r') as zip_f:\n",
    "    zip_f.extractall(dest_folder)\n",
    "print(f\"Extracted contents to: {dest_folder}\")\n"
   ]
  },
  {
   "cell_type": "code",
   "execution_count": null,
   "id": "f1af56ad-ff9e-4342-a600-5b49d7cf3efe",
   "metadata": {},
   "outputs": [],
   "source": []
  }
 ],
 "metadata": {
  "kernelspec": {
   "display_name": "Python 3 (ipykernel)",
   "language": "python",
   "name": "python3"
  },
  "language_info": {
   "codemirror_mode": {
    "name": "ipython",
    "version": 3
   },
   "file_extension": ".py",
   "mimetype": "text/x-python",
   "name": "python",
   "nbconvert_exporter": "python",
   "pygments_lexer": "ipython3",
   "version": "3.9.23"
  }
 },
 "nbformat": 4,
 "nbformat_minor": 5
}
